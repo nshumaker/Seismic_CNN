{
 "cells": [
  {
   "cell_type": "code",
   "execution_count": null,
   "id": "6b2c3b6d",
   "metadata": {},
   "outputs": [],
   "source": [
    "# %% load VGG model\n",
    "from keras.applications.vgg19 import VGG19\n",
    "from keras.applications.vgg19 import preprocess_input\n",
    "from keras.preprocessing.image import load_img\n",
    "from keras.preprocessing.image import img_to_array\n",
    "from keras.models import Model\n",
    "import matplotlib.pyplot as plt\n",
    "from numpy import expand_dims"
   ]
  }
 ],
 "metadata": {
  "kernelspec": {
   "display_name": "seis_feature_env",
   "language": "python",
   "name": "seis_feature_env"
  },
  "language_info": {
   "codemirror_mode": {
    "name": "ipython",
    "version": 3
   },
   "file_extension": ".py",
   "mimetype": "text/x-python",
   "name": "python",
   "nbconvert_exporter": "python",
   "pygments_lexer": "ipython3",
   "version": "3.8.8"
  }
 },
 "nbformat": 4,
 "nbformat_minor": 5
}
